{
  "nbformat": 4,
  "nbformat_minor": 0,
  "metadata": {
    "colab": {
      "provenance": []
    },
    "kernelspec": {
      "name": "python3",
      "display_name": "Python 3"
    },
    "language_info": {
      "name": "python"
    }
  },
  "cells": [
    {
      "cell_type": "code",
      "source": [
        "!pip install pyspark"
      ],
      "metadata": {
        "id": "t4AYI0P-lc2_",
        "colab": {
          "base_uri": "https://localhost:8080/"
        },
        "outputId": "cc5dd453-2fb3-41d2-d65c-99fddd8789c1"
      },
      "execution_count": 116,
      "outputs": [
        {
          "output_type": "stream",
          "name": "stdout",
          "text": [
            "Requirement already satisfied: pyspark in /usr/local/lib/python3.10/dist-packages (3.5.2)\n",
            "Requirement already satisfied: py4j==0.10.9.7 in /usr/local/lib/python3.10/dist-packages (from pyspark) (0.10.9.7)\n"
          ]
        }
      ]
    },
    {
      "cell_type": "code",
      "source": [
        "from pyspark.sql import SparkSession\n",
        "from pyspark.sql.functions import col,when,count,isnan,isnull,expr"
      ],
      "metadata": {
        "id": "jMr-YfKwIBHp"
      },
      "execution_count": 117,
      "outputs": []
    },
    {
      "cell_type": "code",
      "source": [
        "spark=SparkSession.builder.appName('Engine').getOrCreate()"
      ],
      "metadata": {
        "id": "LzRO-itdRUg5"
      },
      "execution_count": 118,
      "outputs": []
    },
    {
      "cell_type": "code",
      "source": [
        "df=spark.read.csv('/content/drive/MyDrive/Flipkart.csv',header=True,inferSchema=True)\n",
        "df.printSchema()"
      ],
      "metadata": {
        "colab": {
          "base_uri": "https://localhost:8080/"
        },
        "id": "lr2dJIzCRngD",
        "outputId": "54487afe-ed22-40a2-f677-8ad1b8b75da8"
      },
      "execution_count": 119,
      "outputs": [
        {
          "output_type": "stream",
          "name": "stdout",
          "text": [
            "root\n",
            " |-- id: integer (nullable = true)\n",
            " |-- title: string (nullable = true)\n",
            " |-- Rating: double (nullable = true)\n",
            " |-- maincateg: string (nullable = true)\n",
            " |-- platform: string (nullable = true)\n",
            " |-- actprice1: integer (nullable = true)\n",
            " |-- norating1: integer (nullable = true)\n",
            " |-- noreviews1: integer (nullable = true)\n",
            " |-- star_5f: integer (nullable = true)\n",
            " |-- star_4f: integer (nullable = true)\n",
            " |-- star_3f: integer (nullable = true)\n",
            " |-- star_2f: integer (nullable = true)\n",
            " |-- star_1f: integer (nullable = true)\n",
            " |-- fulfilled1: integer (nullable = true)\n",
            "\n"
          ]
        }
      ]
    },
    {
      "cell_type": "code",
      "source": [
        "df.show(5)"
      ],
      "metadata": {
        "colab": {
          "base_uri": "https://localhost:8080/"
        },
        "id": "xwG--T2ma-Gz",
        "outputId": "97994d76-fde2-4e85-8e43-4de955b7fa61"
      },
      "execution_count": 120,
      "outputs": [
        {
          "output_type": "stream",
          "name": "stdout",
          "text": [
            "+-----+--------------------+------+---------+--------+---------+---------+----------+-------+-------+-------+-------+-------+----------+\n",
            "|   id|               title|Rating|maincateg|platform|actprice1|norating1|noreviews1|star_5f|star_4f|star_3f|star_2f|star_1f|fulfilled1|\n",
            "+-----+--------------------+------+---------+--------+---------+---------+----------+-------+-------+-------+-------+-------+----------+\n",
            "| 2242|Casuals For Men  ...|   3.8|      Men|Flipkart|      999|    27928|      3543|  14238|   4295|   3457|   1962|   3976|         1|\n",
            "|20532|Women Black Flats...|   3.9|    Women|Flipkart|      499|     3015|       404|   1458|    657|    397|    182|    321|         1|\n",
            "|10648|Women Gold Wedges...|   3.9|    Women|Flipkart|      999|      449|        52|    229|     70|     71|     33|     46|         1|\n",
            "|20677|Men's Height Incr...|   3.9|      Men|Flipkart|     2999|      290|        40|    141|     51|     49|     17|     32|         1|\n",
            "|12593|Loafers For Men  ...|   3.9|      Men|Flipkart|      999|     2423|       326|   1265|    414|    293|    143|    308|         0|\n",
            "+-----+--------------------+------+---------+--------+---------+---------+----------+-------+-------+-------+-------+-------+----------+\n",
            "only showing top 5 rows\n",
            "\n"
          ]
        }
      ]
    },
    {
      "cell_type": "code",
      "source": [
        "df=df.withColumnRenamed(\"actprice1\",\"Price\")\n",
        "df=df.withColumnRenamed(\"fulfilled1\",\"Discount\")\n",
        "df=df.withColumnRenamed(\"title\",\"ProductName\")\n",
        "df.columns"
      ],
      "metadata": {
        "colab": {
          "base_uri": "https://localhost:8080/"
        },
        "id": "puVFbAIVN7vH",
        "outputId": "6c57c04c-e76e-4c6a-93bf-78635e1ec042"
      },
      "execution_count": 121,
      "outputs": [
        {
          "output_type": "execute_result",
          "data": {
            "text/plain": [
              "['id',\n",
              " 'ProductName',\n",
              " 'Rating',\n",
              " 'maincateg',\n",
              " 'platform',\n",
              " 'Price',\n",
              " 'norating1',\n",
              " 'noreviews1',\n",
              " 'star_5f',\n",
              " 'star_4f',\n",
              " 'star_3f',\n",
              " 'star_2f',\n",
              " 'star_1f',\n",
              " 'Discount']"
            ]
          },
          "metadata": {},
          "execution_count": 121
        }
      ]
    },
    {
      "cell_type": "code",
      "source": [
        "df.describe().show()"
      ],
      "metadata": {
        "colab": {
          "base_uri": "https://localhost:8080/"
        },
        "id": "vJwEHHvFax9w",
        "outputId": "868de18a-f36f-4612-af60-684e3741e0d4"
      },
      "execution_count": 122,
      "outputs": [
        {
          "output_type": "stream",
          "name": "stdout",
          "text": [
            "+-------+------------------+--------------------+-------------------+---------+--------+------------------+------------------+------------------+-----------------+-----------------+------------------+------------------+------------------+-------------------+\n",
            "|summary|                id|         ProductName|             Rating|maincateg|platform|             Price|         norating1|        noreviews1|          star_5f|          star_4f|           star_3f|           star_2f|           star_1f|           Discount|\n",
            "+-------+------------------+--------------------+-------------------+---------+--------+------------------+------------------+------------------+-----------------+-----------------+------------------+------------------+------------------+-------------------+\n",
            "|  count|              5244|                5244|               5041|     5177|    5244|              5244|              5244|              5244|             5176|             5244|              5244|              5244|              5058|               5244|\n",
            "|   mean|10507.372616323417|                 0.0|  4.011089069629038|     NULL|    NULL| 1378.657894736842|2988.5800915331806|415.49103737604884|1557.443199381762|639.7854691075515| 356.3567887109077|154.13996948893973| 270.3977856860419| 0.6045003813882532|\n",
            "| stddev|  5978.65889151765|                NULL|0.30191522284782074|     NULL|    NULL|1280.6300702165822|12881.253714820072|1910.7266693173326|6583.766997674775|2991.065223081954|1632.7328338881507| 611.0067985620702|1035.0852878031521|0.48900436610958664|\n",
            "|    min|                 0|\"AADI MEN\"\"S BLAC...|                0.0|      Men|  Amazon|               139|                 1|                 0|                0|                0|                 0|                 0|                 0|                  0|\n",
            "|    max|             20964| Bellies For Wome...|                5.0|    Women|Flipkart|             15999|            289973|             45448|           151193|            74037|             49924|             12629|             23139|                  1|\n",
            "+-------+------------------+--------------------+-------------------+---------+--------+------------------+------------------+------------------+-----------------+-----------------+------------------+------------------+------------------+-------------------+\n",
            "\n"
          ]
        }
      ]
    },
    {
      "cell_type": "code",
      "source": [
        "df.select([count(when(col(c).isNull(), c)).alias(c) for c in df.columns]).show()"
      ],
      "metadata": {
        "id": "owWiow7JayI8",
        "colab": {
          "base_uri": "https://localhost:8080/"
        },
        "outputId": "079cac37-c6e6-4e9f-c1e9-5e17a6b360c9"
      },
      "execution_count": 123,
      "outputs": [
        {
          "output_type": "stream",
          "name": "stdout",
          "text": [
            "+---+-----------+------+---------+--------+-----+---------+----------+-------+-------+-------+-------+-------+--------+\n",
            "| id|ProductName|Rating|maincateg|platform|Price|norating1|noreviews1|star_5f|star_4f|star_3f|star_2f|star_1f|Discount|\n",
            "+---+-----------+------+---------+--------+-----+---------+----------+-------+-------+-------+-------+-------+--------+\n",
            "|  0|          0|   203|       67|       0|    0|        0|         0|     68|      0|      0|      0|    186|       0|\n",
            "+---+-----------+------+---------+--------+-----+---------+----------+-------+-------+-------+-------+-------+--------+\n",
            "\n"
          ]
        }
      ]
    },
    {
      "cell_type": "code",
      "source": [
        "clean_df=df.dropna()"
      ],
      "metadata": {
        "id": "l9Spj-yTaq7E"
      },
      "execution_count": 124,
      "outputs": []
    },
    {
      "cell_type": "code",
      "source": [
        "fill_df=df.fillna({\"Rating\":0})"
      ],
      "metadata": {
        "id": "7MewbqRATEZw"
      },
      "execution_count": 125,
      "outputs": []
    },
    {
      "cell_type": "code",
      "source": [
        "transformed_df = df.withColumn(\"EffectivePrice\", expr(\"Price - (Price * Discount / 100)\"))\n",
        "transformed_df.select(\"ProductName\", \"Price\", \"Discount\", \"EffectivePrice\").show(5)\n",
        "high_rated_products = fill_df.filter((col(\"Rating\") > 4) )\n",
        "\n",
        "\n",
        "high_rated_products.show(5)"
      ],
      "metadata": {
        "id": "WF1EKaDKagvU",
        "colab": {
          "base_uri": "https://localhost:8080/"
        },
        "outputId": "29d44f33-cc4e-4c40-b2b0-fae9fbb1226b"
      },
      "execution_count": 126,
      "outputs": [
        {
          "output_type": "stream",
          "name": "stdout",
          "text": [
            "+--------------------+-----+--------+--------------+\n",
            "|         ProductName|Price|Discount|EffectivePrice|\n",
            "+--------------------+-----+--------+--------------+\n",
            "|Casuals For Men  ...|  999|       1|        989.01|\n",
            "|Women Black Flats...|  499|       1|        494.01|\n",
            "|Women Gold Wedges...|  999|       1|        989.01|\n",
            "|Men's Height Incr...| 2999|       1|       2969.01|\n",
            "|Loafers For Men  ...|  999|       0|         999.0|\n",
            "+--------------------+-----+--------+--------------+\n",
            "only showing top 5 rows\n",
            "\n",
            "+-----+--------------------+------+---------+--------+-----+---------+----------+-------+-------+-------+-------+-------+--------+\n",
            "|   id|         ProductName|Rating|maincateg|platform|Price|norating1|noreviews1|star_5f|star_4f|star_3f|star_2f|star_1f|Discount|\n",
            "+-----+--------------------+------+---------+--------+-----+---------+----------+-------+-------+-------+-------+-------+--------+\n",
            "| 6433|ARYA - DIFFERENT ...|   4.2|    Women|Flipkart| 4299|      166|        24|     94|     39|     12|      6|     15|       1|\n",
            "|13859|Women Black Wedge...|   4.2|    Women|Flipkart|  279|     3048|       487|   1746|    679|    348|    114|    161|       1|\n",
            "|19453|Denill Ankle Leng...|   4.1|    Women|Flipkart|  999|     6806|       961|   3646|   1508|    810|    335|    510|       1|\n",
            "| 8121|Women Grey Heels ...|   4.2|    Women|Flipkart| 1990|       16|         1|     10|      2|      1|      3|      0|       1|\n",
            "| 9791|Pink Perfect Styl...|   4.2|    Women|Flipkart|  999|      509|        73|    288|    106|     61|     17|     37|       1|\n",
            "+-----+--------------------+------+---------+--------+-----+---------+----------+-------+-------+-------+-------+-------+--------+\n",
            "only showing top 5 rows\n",
            "\n"
          ]
        }
      ]
    },
    {
      "cell_type": "code",
      "source": [
        "high_rated_products=transformed_df.filter((col(\"Rating\")>3) & (col(\"platform\")==\"Flipkart\"))\n",
        "high_rated_products.show(5)"
      ],
      "metadata": {
        "colab": {
          "base_uri": "https://localhost:8080/"
        },
        "id": "_8HLJ4SAJPcd",
        "outputId": "3045c2b0-468f-4dff-e520-a3286a8959cd"
      },
      "execution_count": 127,
      "outputs": [
        {
          "output_type": "stream",
          "name": "stdout",
          "text": [
            "+-----+--------------------+------+---------+--------+-----+---------+----------+-------+-------+-------+-------+-------+--------+--------------+\n",
            "|   id|         ProductName|Rating|maincateg|platform|Price|norating1|noreviews1|star_5f|star_4f|star_3f|star_2f|star_1f|Discount|EffectivePrice|\n",
            "+-----+--------------------+------+---------+--------+-----+---------+----------+-------+-------+-------+-------+-------+--------+--------------+\n",
            "| 2242|Casuals For Men  ...|   3.8|      Men|Flipkart|  999|    27928|      3543|  14238|   4295|   3457|   1962|   3976|       1|        989.01|\n",
            "|20532|Women Black Flats...|   3.9|    Women|Flipkart|  499|     3015|       404|   1458|    657|    397|    182|    321|       1|        494.01|\n",
            "|10648|Women Gold Wedges...|   3.9|    Women|Flipkart|  999|      449|        52|    229|     70|     71|     33|     46|       1|        989.01|\n",
            "|20677|Men's Height Incr...|   3.9|      Men|Flipkart| 2999|      290|        40|    141|     51|     49|     17|     32|       1|       2969.01|\n",
            "|12593|Loafers For Men  ...|   3.9|      Men|Flipkart|  999|     2423|       326|   1265|    414|    293|    143|    308|       0|         999.0|\n",
            "+-----+--------------------+------+---------+--------+-----+---------+----------+-------+-------+-------+-------+-------+--------+--------------+\n",
            "only showing top 5 rows\n",
            "\n"
          ]
        }
      ]
    },
    {
      "cell_type": "code",
      "source": [
        "high_rated_products=transformed_df.filter((col(\"EffectivePrice\")>3000) & (col(\"EffectivePrice\").isNotNull()) & (col(\"platform\")==\"Amazon\"))\n",
        "high_rated_products.show(5)"
      ],
      "metadata": {
        "colab": {
          "base_uri": "https://localhost:8080/"
        },
        "id": "G6WwS-XAPtiY",
        "outputId": "e52b76ad-8dad-41da-b946-df45ffc879c2"
      },
      "execution_count": 128,
      "outputs": [
        {
          "output_type": "stream",
          "name": "stdout",
          "text": [
            "+-----+--------------------+------+---------+--------+-----+---------+----------+-------+-------+-------+-------+-------+--------+--------------+\n",
            "|   id|         ProductName|Rating|maincateg|platform|Price|norating1|noreviews1|star_5f|star_4f|star_3f|star_2f|star_1f|Discount|EffectivePrice|\n",
            "+-----+--------------------+------+---------+--------+-----+---------+----------+-------+-------+-------+-------+-------+--------+--------------+\n",
            "|18343|Puma Women's Sued...|   4.2|    Women|  Amazon| 4409|       94|        47|     10|      5|      7|     15|     63|       1|       4364.91|\n",
            "|15945|Skechers Women's ...|   4.3|    Women|  Amazon| 6499|      102|        37|      7|      5|      3|     17|     67|       1|       6434.01|\n",
            "|16818|Red Chief Men's S...|  NULL|     NULL|  Amazon| 4499|      750|       479|   NULL|      6|     10|     25|     47|       1|       4454.01|\n",
            "|19567|Red Chief Men's B...|   3.9|      Men|  Amazon| 3799|      847|       541|     12|      6|     11|     22|     49|       1|       3761.01|\n",
            "|11075|Puma Unisex's Sma...|   4.4|    Women|  Amazon| 3599|       25|        17|      0|      8|     13|      6|     73|       0|        3599.0|\n",
            "+-----+--------------------+------+---------+--------+-----+---------+----------+-------+-------+-------+-------+-------+--------+--------------+\n",
            "\n"
          ]
        }
      ]
    },
    {
      "cell_type": "code",
      "source": [
        "avg_rating=transformed_df.groupBy(\"platform\").agg({\"Rating\":\"avg\"})\n",
        "avg_rating.show()"
      ],
      "metadata": {
        "colab": {
          "base_uri": "https://localhost:8080/"
        },
        "id": "F-bX6VnxQXtL",
        "outputId": "f88e2e24-f2af-4d68-b387-c2a4648b11a3"
      },
      "execution_count": 129,
      "outputs": [
        {
          "output_type": "stream",
          "name": "stdout",
          "text": [
            "+--------+------------------+\n",
            "|platform|       avg(Rating)|\n",
            "+--------+------------------+\n",
            "|Flipkart| 4.013193039255362|\n",
            "|  Amazon|3.9060606060606067|\n",
            "+--------+------------------+\n",
            "\n"
          ]
        }
      ]
    },
    {
      "cell_type": "code",
      "source": [
        "avg_rating_effectiveprice=transformed_df.groupBy(\"platform\").agg({\"EffectivePrice\":\"avg\"})\n",
        "avg_rating_effectiveprice.show()"
      ],
      "metadata": {
        "colab": {
          "base_uri": "https://localhost:8080/"
        },
        "id": "7ajBIEVoRcX9",
        "outputId": "ce08f103-4a90-44c0-8c12-7e26390827d6"
      },
      "execution_count": 130,
      "outputs": [
        {
          "output_type": "stream",
          "name": "stdout",
          "text": [
            "+--------+-------------------+\n",
            "|platform|avg(EffectivePrice)|\n",
            "+--------+-------------------+\n",
            "|Flipkart| 1376.5771809337703|\n",
            "|  Amazon|  986.7551923076921|\n",
            "+--------+-------------------+\n",
            "\n"
          ]
        }
      ]
    },
    {
      "cell_type": "code",
      "source": [
        "avg_rating_star_5f=transformed_df.groupBy(\"platform\").agg({\"star_5f\":\"count\"})\n",
        "avg_rating_star_5f.show()"
      ],
      "metadata": {
        "colab": {
          "base_uri": "https://localhost:8080/"
        },
        "id": "DZg2nNcjR-Q_",
        "outputId": "daac3800-17a2-4bcb-bf76-3fe3c85d9013"
      },
      "execution_count": 131,
      "outputs": [
        {
          "output_type": "stream",
          "name": "stdout",
          "text": [
            "+--------+--------------+\n",
            "|platform|count(star_5f)|\n",
            "+--------+--------------+\n",
            "|Flipkart|          5073|\n",
            "|  Amazon|           103|\n",
            "+--------+--------------+\n",
            "\n"
          ]
        }
      ]
    },
    {
      "cell_type": "code",
      "source": [
        "transformed_df_gender_notnull=transformed_df.filter(col(\"maincateg\").isNotNull())\n",
        "avg_rating_bygender=transformed_df_gender_notnull.groupBy(\"maincateg\").agg({\"Rating\":\"avg\"})\n",
        "avg_rating_bygender.show()"
      ],
      "metadata": {
        "colab": {
          "base_uri": "https://localhost:8080/"
        },
        "id": "3M0ClpdYSdfL",
        "outputId": "4d68dbd0-5e93-465d-d636-99c6b892068e"
      },
      "execution_count": 132,
      "outputs": [
        {
          "output_type": "stream",
          "name": "stdout",
          "text": [
            "+---------+------------------+\n",
            "|maincateg|       avg(Rating)|\n",
            "+---------+------------------+\n",
            "|      Men|3.9662970106075246|\n",
            "|    Women|4.0416582064297915|\n",
            "+---------+------------------+\n",
            "\n"
          ]
        }
      ]
    },
    {
      "cell_type": "code",
      "source": [
        "avg_rating_bygender=transformed_df_gender_notnull.groupBy(\"maincateg\").agg({\"Rating\":\"sum\"})\n",
        "avg_rating_bygender.show()"
      ],
      "metadata": {
        "colab": {
          "base_uri": "https://localhost:8080/"
        },
        "id": "Yx-rz8mQTG7i",
        "outputId": "110f4a30-2e26-44f3-a4fb-59c3fa61041c"
      },
      "execution_count": 133,
      "outputs": [
        {
          "output_type": "stream",
          "name": "stdout",
          "text": [
            "+---------+------------------+\n",
            "|maincateg|       sum(Rating)|\n",
            "+---------+------------------+\n",
            "|      Men| 8226.100000000006|\n",
            "|    Women|11943.100000000035|\n",
            "+---------+------------------+\n",
            "\n"
          ]
        }
      ]
    },
    {
      "cell_type": "code",
      "source": [
        "output_display='Flipkart_Data_Insights'\n",
        "transformed_df.write.mode('overwrite').saveAsTable(output_display)"
      ],
      "metadata": {
        "id": "HlMNxDkIT-45"
      },
      "execution_count": 134,
      "outputs": []
    },
    {
      "cell_type": "code",
      "source": [
        "df1=spark.sql(\"select * from Flipkart_Data_Insights\")\n",
        "df1.show()"
      ],
      "metadata": {
        "colab": {
          "base_uri": "https://localhost:8080/"
        },
        "id": "NZEuMU7hVy0x",
        "outputId": "bc343060-ba0f-48da-9087-8a8f28daa776"
      },
      "execution_count": 136,
      "outputs": [
        {
          "output_type": "stream",
          "name": "stdout",
          "text": [
            "+-----+--------------------+------+---------+--------+-----+---------+----------+-------+-------+-------+-------+-------+--------+--------------+\n",
            "|   id|         ProductName|Rating|maincateg|platform|Price|norating1|noreviews1|star_5f|star_4f|star_3f|star_2f|star_1f|Discount|EffectivePrice|\n",
            "+-----+--------------------+------+---------+--------+-----+---------+----------+-------+-------+-------+-------+-------+--------+--------------+\n",
            "| 2242|Casuals For Men  ...|   3.8|      Men|Flipkart|  999|    27928|      3543|  14238|   4295|   3457|   1962|   3976|       1|        989.01|\n",
            "|20532|Women Black Flats...|   3.9|    Women|Flipkart|  499|     3015|       404|   1458|    657|    397|    182|    321|       1|        494.01|\n",
            "|10648|Women Gold Wedges...|   3.9|    Women|Flipkart|  999|      449|        52|    229|     70|     71|     33|     46|       1|        989.01|\n",
            "|20677|Men's Height Incr...|   3.9|      Men|Flipkart| 2999|      290|        40|    141|     51|     49|     17|     32|       1|       2969.01|\n",
            "|12593|Loafers For Men  ...|   3.9|      Men|Flipkart|  999|     2423|       326|   1265|    414|    293|    143|    308|       0|         999.0|\n",
            "|11159|Canvas Shoes For ...|   3.9|      Men|Flipkart|  999|      541|        72|    281|    104|     69|     17|     70|       0|         999.0|\n",
            "|10680|Combo Pack Of 2 C...|   3.9|      Men|Flipkart| 2400|      824|       105|    386|    199|    106|     61|     72|       1|        2376.0|\n",
            "| 6433|ARYA - DIFFERENT ...|   4.2|    Women|Flipkart| 4299|      166|        24|     94|     39|     12|      6|     15|       1|       4256.01|\n",
            "| 2794|Latest Collection...|   3.9|    Women|Flipkart|  499|     1816|       218|    899|    360|    239|    113|    208|       0|         499.0|\n",
            "|11579|MOCCASSIN Slip On...|   3.8|      Men|Flipkart| 2299|     3066|       392|   1304|    803|    462|    189|    308|       1|       2276.01|\n",
            "|13859|Women Black Wedge...|   4.2|    Women|Flipkart|  279|     3048|       487|   1746|    679|    348|    114|    161|       1|        276.21|\n",
            "|12260|Long OfficeWear C...|   3.9|      Men|Flipkart|  999|    14247|      2102|   6921|   2924|   1976|    882|   1544|       1|        989.01|\n",
            "|18254|Women Black Heels...|   3.7|    Women|Flipkart|  999|      508|        80|    218|     88|     90|     40|     72|       0|         999.0|\n",
            "|19453|Denill Ankle Leng...|   4.1|    Women|Flipkart|  999|     6806|       961|   3646|   1508|    810|    335|    510|       1|        989.01|\n",
            "| 8121|Women Grey Heels ...|   4.2|    Women|Flipkart| 1990|       16|         1|     10|      2|      1|      3|      0|       1|        1970.1|\n",
            "| 9791|Pink Perfect Styl...|   4.2|    Women|Flipkart|  999|      509|        73|    288|    106|     61|     17|     37|       1|        989.01|\n",
            "| 7402|Concave 2 Wn s ID...|   4.3|    Women|Flipkart| 3999|      367|        47|    206|    108|     30|      6|     18|       1|       3959.01|\n",
            "| 3205|     SFG-23 Slippers|   4.1|      Men|Flipkart|  319|    12936|      1598|   7030|   2850|   1453|    587|   1016|       1|        315.81|\n",
            "|14489|Dark Brown Leathe...|   3.9|      Men|Flipkart|  599|      374|        55|    182|     75|     58|     20|     39|       1|        593.01|\n",
            "|10607|Women Grey Sports...|   4.7|    Women|Flipkart| 1199|        6|         4|      4|      2|      0|      0|      0|       1|       1187.01|\n",
            "+-----+--------------------+------+---------+--------+-----+---------+----------+-------+-------+-------+-------+-------+--------+--------------+\n",
            "only showing top 20 rows\n",
            "\n"
          ]
        }
      ]
    },
    {
      "cell_type": "code",
      "source": [],
      "metadata": {
        "id": "oG2dmM-5WRbl"
      },
      "execution_count": 135,
      "outputs": []
    },
    {
      "cell_type": "code",
      "source": [],
      "metadata": {
        "id": "4pglUIJsXmUY"
      },
      "execution_count": 135,
      "outputs": []
    }
  ]
}